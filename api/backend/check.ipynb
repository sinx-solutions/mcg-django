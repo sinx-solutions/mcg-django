{
 "cells": [
  {
   "cell_type": "code",
   "execution_count": 1,
   "metadata": {},
   "outputs": [
    {
     "name": "stdout",
     "output_type": "stream",
     "text": [
      "Hello\n"
     ]
    }
   ],
   "source": [
    "print(\"Hello\")"
   ]
  },
  {
   "cell_type": "code",
   "execution_count": 22,
   "metadata": {},
   "outputs": [
    {
     "ename": "AttributeError",
     "evalue": "'PdfReader' object has no attribute 'seek'",
     "output_type": "error",
     "traceback": [
      "\u001b[31m---------------------------------------------------------------------------\u001b[39m",
      "\u001b[31mAttributeError\u001b[39m                            Traceback (most recent call last)",
      "\u001b[36mCell\u001b[39m\u001b[36m \u001b[39m\u001b[32mIn[22]\u001b[39m\u001b[32m, line 8\u001b[39m\n\u001b[32m      6\u001b[39m \u001b[38;5;28;01mwith\u001b[39;00m \u001b[38;5;28mopen\u001b[39m(file_path,\u001b[33m'\u001b[39m\u001b[33mrb\u001b[39m\u001b[33m'\u001b[39m) \u001b[38;5;28;01mas\u001b[39;00m f:\n\u001b[32m      7\u001b[39m     reader = PyPDF2.PdfReader(f)\n\u001b[32m----> \u001b[39m\u001b[32m8\u001b[39m     \u001b[38;5;28mprint\u001b[39m(\u001b[43mreader\u001b[49m\u001b[43m.\u001b[49m\u001b[43mread\u001b[49m\u001b[43m(\u001b[49m\u001b[43mreader\u001b[49m\u001b[43m)\u001b[49m)\n",
      "\u001b[36mFile \u001b[39m\u001b[32m~/root-turborepo/apps/api/env/lib/python3.11/site-packages/PyPDF2/_reader.py:1414\u001b[39m, in \u001b[36mPdfReader.read\u001b[39m\u001b[34m(self, stream)\u001b[39m\n\u001b[32m   1413\u001b[39m \u001b[38;5;28;01mdef\u001b[39;00m\u001b[38;5;250m \u001b[39m\u001b[34mread\u001b[39m(\u001b[38;5;28mself\u001b[39m, stream: StreamType) -> \u001b[38;5;28;01mNone\u001b[39;00m:\n\u001b[32m-> \u001b[39m\u001b[32m1414\u001b[39m     \u001b[38;5;28;43mself\u001b[39;49m\u001b[43m.\u001b[49m\u001b[43m_basic_validation\u001b[49m\u001b[43m(\u001b[49m\u001b[43mstream\u001b[49m\u001b[43m)\u001b[49m\n\u001b[32m   1415\u001b[39m     \u001b[38;5;28mself\u001b[39m._find_eof_marker(stream)\n\u001b[32m   1416\u001b[39m     startxref = \u001b[38;5;28mself\u001b[39m._find_startxref_pos(stream)\n",
      "\u001b[36mFile \u001b[39m\u001b[32m~/root-turborepo/apps/api/env/lib/python3.11/site-packages/PyPDF2/_reader.py:1453\u001b[39m, in \u001b[36mPdfReader._basic_validation\u001b[39m\u001b[34m(self, stream)\u001b[39m\n\u001b[32m   1451\u001b[39m \u001b[38;5;28;01mdef\u001b[39;00m\u001b[38;5;250m \u001b[39m\u001b[34m_basic_validation\u001b[39m(\u001b[38;5;28mself\u001b[39m, stream: StreamType) -> \u001b[38;5;28;01mNone\u001b[39;00m:\n\u001b[32m   1452\u001b[39m     \u001b[38;5;66;03m# start at the end:\u001b[39;00m\n\u001b[32m-> \u001b[39m\u001b[32m1453\u001b[39m     \u001b[43mstream\u001b[49m\u001b[43m.\u001b[49m\u001b[43mseek\u001b[49m(\u001b[32m0\u001b[39m, os.SEEK_END)\n\u001b[32m   1454\u001b[39m     \u001b[38;5;28;01mif\u001b[39;00m \u001b[38;5;129;01mnot\u001b[39;00m stream.tell():\n\u001b[32m   1455\u001b[39m         \u001b[38;5;28;01mraise\u001b[39;00m EmptyFileError(\u001b[33m\"\u001b[39m\u001b[33mCannot read an empty file\u001b[39m\u001b[33m\"\u001b[39m)\n",
      "\u001b[31mAttributeError\u001b[39m: 'PdfReader' object has no attribute 'seek'"
     ]
    }
   ],
   "source": [
    "import PyPDF2\n",
    "\n",
    "file_path = '/Users/sanchaythalnerkar/root-turborepo/apps/api/resumes/resumesanchay.pdf'\n",
    "\n",
    "\n",
    "with open(file_path,'rb') as f:\n",
    "    reader = PyPDF2.PdfReader(f)\n",
    "    print(reader.read(reader))\n",
    "    \n",
    "\n",
    "    \n"
   ]
  },
  {
   "cell_type": "markdown",
   "metadata": {},
   "source": []
  },
  {
   "cell_type": "code",
   "execution_count": null,
   "metadata": {},
   "outputs": [],
   "source": []
  }
 ],
 "metadata": {
  "kernelspec": {
   "display_name": "env",
   "language": "python",
   "name": "python3"
  },
  "language_info": {
   "codemirror_mode": {
    "name": "ipython",
    "version": 3
   },
   "file_extension": ".py",
   "mimetype": "text/x-python",
   "name": "python",
   "nbconvert_exporter": "python",
   "pygments_lexer": "ipython3",
   "version": "3.11.11"
  }
 },
 "nbformat": 4,
 "nbformat_minor": 2
}
